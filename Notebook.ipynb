{
 "cells": [
  {
   "cell_type": "code",
   "execution_count": 1,
   "metadata": {},
   "outputs": [],
   "source": [
    "import pandas as pd\n",
    "import numpy as np\n",
    "import matplotlib.pyplot as plt\n",
    "import seaborn as sns\n",
    "import graphviz\n",
    "import sklearn\n",
    "\n",
    "from scipy.stats import randint\n",
    "from sklearn import tree\n",
    "from sklearn.preprocessing import MinMaxScaler\n",
    "from sklearn.model_selection import train_test_split\n",
    "from sklearn.ensemble import RandomForestClassifier\n",
    "\n",
    "from sklearn.metrics import accuracy_score\n",
    "from sklearn.metrics import mean_absolute_error\n",
    "from sklearn.tree import export_text\n",
    "from sklearn.model_selection import RandomizedSearchCV\n",
    "\n",
    "df = pd.read_csv(\"./mental-heath-in-tech-2016_20161114.csv\")\n",
    "\n",
    "pd.set_option('max_colwidth', 300)\n",
    "pd.set_option('max_columns', 70)"
   ]
  },
  {
   "cell_type": "markdown",
   "metadata": {},
   "source": [
    "# Information\n",
    "\n",
    "df.info() for overview\n",
    "\n",
    "## Column Access\n",
    "\n",
    "- Actual name (very long)\n",
    "- by index via `iloc[:, i]`\n",
    "- shorten the names of the columns\n",
    "    \n",
    "## Columns to be dropped\n",
    "\n",
    "Check in code blocks below where the data gets analyzed and then columns with too many different answers get dropped.\n",
    "\n",
    "**This changes the indeces!**\n",
    "\n",
    "## Questions\n",
    "\n",
    "0. Are you self-employed?\n",
    "1. How many employees does your company or organization have? **[NaN]**\n",
    "2. Is your employer primarily a tech company/organization? **[NaN]**\n",
    "3. Is your primary role within your company related to tech/IT? **[NaN]**\n",
    "4. Does your employer provide mental health benefits as part of healthcare coverage?\n",
    "5. Do you know the options for mental health care available under your employer-provided coverage?\n",
    "6. Has your employer ever formally discussed mental health (for example, as part of a wellness campaign or other official communication)?\n",
    "7. Does your employer offer resources to learn more about mental health concerns and options for seeking help?\n",
    "8. Is your anonymity protected if you choose to take advantage of mental health or substance abuse treatment resources provided by your employer?\n",
    "9. If a mental health issue prompted you to request a medical leave from work, asking for that leave would be:\n",
    "10. Do you think that discussing a mental health disorder with your employer would have negative consequences? **[NaN]**\n",
    "11. Do you think that discussing a physical health issue with your employer would have negative consequences? **[NaN]**\n",
    "12. Would you feel comfortable discussing a mental health disorder with your coworkers? **[NaN]**\n",
    "13. Would you feel comfortable discussing a mental health disorder with your direct supervisor(s)? **[NaN]**\n",
    "14. Do you feel that your employer takes mental health as seriously as physical health?\n",
    "15. Have you heard of or observed negative consequences for co-workers who have been open about mental health issues in your workplace? **[NaN]**\n",
    "16. Do you have medical coverage (private insurance or state-provided) which includes treatment of  mental health issues? **[NaN]**\n",
    "17. Do you know local or online resources to seek help for a mental health disorder? **[NaN]**\n",
    "18. If you have been diagnosed or treated for a mental health disorder, do you ever reveal this to clients or business contacts? **[NaN]**\n",
    "19. [FOLLOW-UP] If you have revealed a mental health issue to a client or business contact, do you believe this has impacted you negatively? **[NaN]**\n",
    "20. If you have been diagnosed or treated for a mental health disorder, do you ever reveal this to coworkers or employees? **[NaN]**\n",
    "21. [FOLLOW-UP] If you have revealed a mental health issue to a coworker or employee, do you believe this has impacted you negatively? **[NaN]**\n",
    "22. Do you believe your productivity is ever affected by a mental health issue? **[NaN]**\n",
    "23. [FOLLOW-UP] If yes, what percentage of your work time (time performing primary or secondary job functions) is affected by a mental health issue? **[NaN]**\n",
    "24. Do you have previous employers?\n",
    "25. Have your previous employers provided mental health benefits?\n",
    "26. [FOLLOW-UP] Were you aware of the options for mental health care provided by your previous employers? **[NaN]**\n",
    "27. Did your previous employers ever formally discuss mental health (as part of a wellness campaign or other official communication)?\n",
    "28. Did your previous employers provide resources to learn more about mental health issues and how to seek help? **[NaN]**\n",
    "29. Was your anonymity protected if you chose to take advantage of mental health or substance abuse treatment resources with previous employers?\n",
    "30. Do you think that discussing a mental health disorder with previous employers would have negative consequences?\n",
    "31. Do you think that discussing a physical health issue with previous employers would have negative consequences? (no I don't know option available/selected) **[NaN]**\n",
    "32. Would you have been willing to discuss a mental health issue with your previous co-workers? **[NaN]**\n",
    "33. Would you have been willing to discuss a mental health issue with your direct supervisor(s)?\n",
    "34. Did you feel that your previous employers took mental health as seriously as physical health?\n",
    "35. Did you hear of or observe negative consequences for co-workers with mental health issues in your previous workplaces? **[NaN]**\n",
    "36. Would you be willing to bring up a physical health issue with a potential employer in an interview? **[NaN]**\n",
    "37. [FREE TEXT] [FOLLOW-UP] Why or why not? **[NaN]**\n",
    "38. Would you bring up a mental health issue with a potential employer in an interview? **[NaN]**\n",
    "39. [FREE TEXT] [FOLLOW-UP] Why or why not? **[NaN]**\n",
    "40. Do you feel that being identified as a person with a mental health issue would hurt your career? **[NaN]**\n",
    "41. Do you think that team members/co-workers would view you more negatively if they knew you suffered from a mental health issue? **[NaN]**\n",
    "42. How willing would you be to share with friends and family that you have a mental illness? **[NaN]**\n",
    "43. Have you observed or experienced an unsupportive or badly handled response to a mental health issue in your current or previous workplace? **[NaN]**\n",
    "44. Have your observations of how another individual who discussed a mental health disorder made you less likely to reveal a mental health issue yourself in your current workplace? **[NaN]**\n",
    "45. Do you have a family history of mental illness?\n",
    "46. Have you had a mental health disorder in the past? **[NaN]**\n",
    "47. Do you currently have a mental health disorder? **[NaN]**\n",
    "48. [FOLLOW-UP] [MULTIPLE] If yes, what condition(s) have you been diagnosed with? **[NaN]**\n",
    "49. [FOLLOW-UP] [MULTIPLE] If maybe, what condition(s) do you believe you have? **[NaN]**\n",
    "50. Have you been diagnosed with a mental health condition by a medical professional? **[NaN]**\n",
    "51. [FOLLOW-UP] [MULTIPLE] If so, what condition(s) were you diagnosed with? **[NaN]**\n",
    "52. Have you ever sought treatment for a mental health issue from a mental health professional?\n",
    "53. [FOLLOW-UP] If you have a mental health issue, do you feel that it interferes with your work when being treated effectively? **[NaN]**\n",
    "54. [FOLLOW-UP] If you have a mental health issue, do you feel that it interferes with your work when NOT being treated effectively?\n",
    "55. What is your age? [REMOVE 323, 3, 99 (?)]\n",
    "56. What is your gender?\n",
    "57. What country do you live in?\n",
    "58. What US state or territory do you live in? **[NaN]**\n",
    "59. What country do you work in?\n",
    "60. What US state or territory do you work in? **[NaN]**\n",
    "61. [MULTIPLE] Which of the following best describes your work position?\n",
    "62. Do you work remotely?"
   ]
  },
  {
   "cell_type": "markdown",
   "metadata": {},
   "source": [
    "# Data Preparing\n",
    "\n",
    "Handle missing entries, drop unwanted data and encode everything to numbers."
   ]
  },
  {
   "cell_type": "code",
   "execution_count": 2,
   "metadata": {},
   "outputs": [
    {
     "name": "stdout",
     "output_type": "stream",
     "text": [
      "29 Why or why not?\n",
      "Different answers:  863\n",
      "31 Why or why not?.1\n",
      "Different answers:  860\n",
      "40 If yes, what condition(s) have you been diagnosed with?\n",
      "Different answers:  101\n",
      "41 If maybe, what condition(s) do you believe you have?\n",
      "Different answers:  77\n",
      "43 If so, what condition(s) were you diagnosed with?\n",
      "Different answers:  90\n",
      "47 What is your age?\n",
      "Different answers:  51\n",
      "48 What is your gender?\n",
      "Different answers:  61\n",
      "49 What country do you live in?\n",
      "Different answers:  43\n",
      "50 What US state or territory do you live in?\n",
      "Different answers:  47\n",
      "51 What country do you work in?\n",
      "Different answers:  44\n",
      "52 What US state or territory do you work in?\n",
      "Different answers:  48\n",
      "53 Which of the following best describes your work position?\n",
      "Different answers:  180\n"
     ]
    }
   ],
   "source": [
    "# Drop unwanted data\n",
    "\n",
    "# Drop all self-employed as we only want to analyze people in companies.\n",
    "df = df.drop(df[(df.iloc[:,0] == 1)].index)\n",
    "\n",
    "# Drop 24 - 35 because we want to analyze the answers related to their current job.\n",
    "# Drop questions for only self-employed people\n",
    "df = df.drop(df.columns[list(range(16, 24))], axis = 1)\n",
    "\n",
    "# Check what columns have too many choices\n",
    "for ind, column in enumerate(df.columns):\n",
    "    if len(df.iloc[:, ind].value_counts()) > 20:\n",
    "        print(ind, column)\n",
    "        print('Different answers: ', len(df[column].value_counts()))\n",
    "\n",
    "# 35, 36  stay, rest goes (after analyzing)\n",
    "# Drop the rest [37, 39, 48, 49, 51, 58, 60, 61]:\n",
    "# df = df.drop(df.columns[[17, 19, 28, 29, 31, 37, 38, 39, 40, 41]], axis = 1)\n",
    "\n",
    "# if previous yes, self no\n",
    "df = df.drop(df.columns[[29, 31, 40, 41, 43, 49, 50, 51, 52, 53]], axis = 1)\n",
    "\n",
    "# Drop 3 because this survey is directed at people in IT and we just care about that.\n",
    "df = df.drop(df[(df.iloc[:,3] == 0)].index)\n",
    "df = df.drop(df.columns[[3]], axis = 1)\n",
    "\n",
    "# Drop self-employed because all the same\n",
    "df = df.drop(df.columns[[0]], axis = 1)\n",
    "\n",
    "# almost empty\n",
    "# df = df.drop([\"Have your observations of how another individual who discussed a mental health disorder made you less likely to reveal a mental health issue yourself in your current workplace?\"], axis=1)"
   ]
  },
  {
   "cell_type": "code",
   "execution_count": 3,
   "metadata": {},
   "outputs": [
    {
     "data": {
      "text/plain": [
       "array(['male', 'female', 'other'], dtype=object)"
      ]
     },
     "execution_count": 3,
     "metadata": {},
     "output_type": "execute_result"
    }
   ],
   "source": [
    "# Prepare Gender\n",
    "male = ['Male', 'male', 'Male ', 'M', 'm', 'man', 'Cis male', 'Male.', 'Male. ', 'Male (cis)', 'Man', 'Sex is male',\n",
    "        'cis male', 'Malr', 'Dude', 'mail', 'M|', 'male ', 'Cis Male', 'cisdude', 'cis man', 'MALE',\n",
    "        \"I'm a man why didn't you make this a drop down question. You should of asked sex? And I would of answered yes please. Seriously how much text can this take? \"]\n",
    "female = ['Female', 'female', 'I identify as female.', 'female ', 'Female assigned at birth ', 'F', 'Woman', 'f',\n",
    "          'Cis female ', 'Female ', 'woman', 'female/woman', 'Cisgender Female', 'fem', 'Female (props for making this a freeform field, though)',\n",
    "          ' Female', 'Cis-woman']\n",
    "other = ['Bigender', 'non-binary', 'fm', 'Transitioned, M2F', 'Genderfluid (born female)', 'Other/Transfeminine',\n",
    "         'Female or Multi-Gender Femme', 'Androgynous', 'male 9:1 female, roughly', 'Other', 'nb masculine',\n",
    "         'none of your business', 'genderqueer', 'Human','Genderfluid', 'Enby','genderqueer woman', 'mtf', 'Queer',\n",
    "         'Agender', 'Fluid', 'Male/genderqueer', 'Nonbinary', 'human', 'Unicorn', 'Male (trans, FtM)',\n",
    "         'Genderqueer', 'Genderflux demi-girl', 'female-bodied; no feelings about gender', 'AFAB', 'Transgender woman', 'nan']\n",
    "\n",
    "df[\"What is your gender?\"].replace(male, 'male', inplace=True)\n",
    "df[\"What is your gender?\"].replace(female, 'female', inplace=True)\n",
    "df[\"What is your gender?\"].replace(other, 'other', inplace=True)\n",
    "df[\"What is your gender?\"].fillna('other', inplace=True);\n",
    "\n",
    "df[\"What is your gender?\"].unique()"
   ]
  },
  {
   "cell_type": "code",
   "execution_count": 4,
   "metadata": {},
   "outputs": [],
   "source": [
    "# Prepare Age \n",
    "\n",
    "# replace irregularities with mean age\n",
    "mean = df[\"What is your age?\"].mean()\n",
    "mean = round(mean)\n",
    "df.loc[(df[\"What is your age?\"] < 15) | (df[\"What is your age?\"] > 90),\"What is your age?\"] =  mean\n",
    "\n",
    "counts = df[\"What is your age?\"].value_counts()\n",
    "\n",
    "# scaler = MinMaxScaler()\n",
    "# df['What is your age?'] = scaler.fit_transform(df[['What is your age?']])\n",
    "\n",
    "# age in groups and ordinal\n",
    "# age_labels = [\"17-25\", \"26-34\", \"35-44\", \"45-54\", \"over 55\"]\n",
    "# df[\"What is your age?\"] = pd.cut(x=df['What is your age?'], bins=[0,25,34,44,54,100], labels=age_labels)\n",
    "# age_group_mapper = {'17-25':1, '26-34':2, '35-44':3, '45-54':4, 'over 55':5}\n",
    "# df[\"What is your age?\"] = df[\"What is your age?\"].replace(age_group_mapper)"
   ]
  },
  {
   "cell_type": "code",
   "execution_count": 5,
   "metadata": {},
   "outputs": [
    {
     "data": {
      "text/plain": [
       "30    77\n",
       "28    66\n",
       "29    63\n",
       "31    62\n",
       "32    60\n",
       "26    58\n",
       "35    57\n",
       "33    56\n",
       "34    55\n",
       "27    55\n",
       "37    46\n",
       "36    43\n",
       "39    41\n",
       "38    39\n",
       "24    38\n",
       "25    35\n",
       "40    30\n",
       "22    27\n",
       "23    23\n",
       "45    22\n",
       "44    21\n",
       "43    21\n",
       "42    21\n",
       "41    20\n",
       "46    16\n",
       "21    13\n",
       "47    11\n",
       "49     8\n",
       "52     6\n",
       "48     5\n",
       "20     5\n",
       "50     4\n",
       "51     4\n",
       "55     4\n",
       "57     3\n",
       "53     2\n",
       "56     2\n",
       "19     2\n",
       "63     2\n",
       "70     1\n",
       "66     1\n",
       "54     1\n",
       "58     1\n",
       "59     1\n",
       "61     1\n",
       "62     1\n",
       "17     1\n",
       "Name: What is your age?, dtype: int64"
      ]
     },
     "execution_count": 5,
     "metadata": {},
     "output_type": "execute_result"
    }
   ],
   "source": [
    "# Clean Data\n",
    "# Handle NaN (This is just an idea, doesn't need to be done 100%)\n",
    "# might be useless as these may be self-employed nan's\n",
    "# df.iloc[:, [4, 6, 7, 8, 9, 14, 25, 27, 29, 30, 34]] = df.iloc[:, [4, 6, 7, 8, 9, 14, 25, 27, 29, 30, 34]].fillna(\"I don't know\")\n",
    "\n",
    "# 44: Have your observations of how another individual who discussed a mental health disorder made you less likely to reveal a mental health issue yourself in your current workplace?\n",
    "# around 500 did not answer -> not applicable\n",
    "df[\"Have your observations of how another individual who discussed a mental health disorder made you less likely to reveal a mental health issue yourself in your current workplace?\"].fillna('n/a', inplace=True)\n",
    "\n",
    "# Clean age by replacing the wrong ages with the mean value.\n",
    "\n",
    "\n",
    "# We interpret the answer n/a here as no [4. Does your employer provide mental health benefits as part of healthcare coverage?]\n",
    "# Everyone should be applicable here.\n",
    "# df[\"Does your employer provide mental health benefits as part of healthcare coverage?\"].replace('Not eligible for coverage / N/A', 'No', inplace=True)\n",
    "\n",
    "# fillna here with maybe (TODO reevaluate) \n",
    "# df['obs_reveal'].fillna('Maybe', inplace=True)\n",
    "df[\"What is your age?\"].value_counts()"
   ]
  },
  {
   "cell_type": "code",
   "execution_count": 7,
   "metadata": {},
   "outputs": [],
   "source": [
    "# Functions for mappers\n",
    "def get_mapper(values):\n",
    "    for mapper in mapper_list:\n",
    "        if compare_arrays(values, mapper):\n",
    "            return mapper\n",
    "\n",
    "\n",
    "def compare_arrays(arr1, arr2):\n",
    "    count = 0\n",
    "    for val in arr1:\n",
    "        if val in arr2:\n",
    "            count+=1\n",
    "    if count == arr1.size:\n",
    "        return True\n",
    "    else:\n",
    "        return False"
   ]
  },
  {
   "cell_type": "code",
   "execution_count": 8,
   "metadata": {},
   "outputs": [
    {
     "data": {
      "text/plain": [
       "\"\\ndf = df.drop(columns=['provide_MH_healthcare', 'discussed_MH', 'employer_resources_options_for_MH', 'anonymity_protected'])\\n\""
      ]
     },
     "execution_count": 8,
     "metadata": {},
     "output_type": "execute_result"
    }
   ],
   "source": [
    "# shorten column names\n",
    "df = df.rename(columns = {'How many employees does your company or organization have?'\n",
    "                          :'company_size'})\n",
    "df = df.rename(columns = {'Is your employer primarily a tech company/organization?'\n",
    "                          :'primarily_tech'})\n",
    "df = df.rename(columns = {'Does your employer provide mental health benefits as part of healthcare coverage?'\n",
    "                          :'empl_MH_healthcare'})\n",
    "df = df.rename(columns = {'Do you know the options for mental health care available under your employer-provided coverage?'\n",
    "                          :'empl_aware_MH_healthcare'})\n",
    "df = df.rename(columns = {'Has your employer ever formally discussed mental health (for example, as part of a wellness campaign or other official communication)?'\n",
    "                          :'disc_MH'})\n",
    "df = df.rename(columns = {'Have your observations of how another individual who discussed a mental health disorder made you less likely to reveal a mental health issue yourself in your current workplace?'\n",
    "                          :'obs_reveal'})\n",
    "df = df.rename(columns = {'If you have a mental health issue, do you feel that it interferes with your work when NOT being treated effectively?'\n",
    "                          :'MH_interference_not_treated'})\n",
    "df = df.rename(columns = {'If you have a mental health issue, do you feel that it interferes with your work when being treated effectively?'\n",
    "                          :'MH_interference_treated'})\n",
    "df = df.rename(columns = {'Does your employer offer resources to learn more about mental health concerns and options for seeking help?'\n",
    "                          :'empl_res_for_MH'})\n",
    "df = df.rename(columns = {'Is your anonymity protected if you choose to take advantage of mental health or substance abuse treatment resources provided by your employer?'\n",
    "                          :'empl_anon'})\n",
    "df = df.rename(columns = {'If a mental health issue prompted you to request a medical leave from work, asking for that leave would be:'\n",
    "                          :'MH_asking_for_leave'})\n",
    "df = df.rename(columns = {'Do you think that discussing a mental health disorder with your employer would have negative consequences?'\n",
    "                          :'disc_MH_neg'})\n",
    "df = df.rename(columns = {'Do you think that discussing a physical health issue with your employer would have negative consequences?'\n",
    "                          :'disc_PH_neg'})\n",
    "df = df.rename(columns = {'Would you feel comfortable discussing a mental health disorder with your coworkers?'\n",
    "                          :'dis_MH_coworkers'})\n",
    "df = df.rename(columns = {'Would you feel comfortable discussing a mental health disorder with your direct supervisor(s)?'\n",
    "                          :'disc_MH_supervisor'})\n",
    "df = df.rename(columns = {'Do you feel that your employer takes mental health as seriously as physical health?'\n",
    "                          :'empl_MH_serious_as_PH'})\n",
    "df = df.rename(columns = {'Have you heard of or observed negative consequences for co-workers who have been open about mental health issues in your workplace?'\n",
    "                          :'neg_obs_cons_MH_coworker'})\n",
    "df = df.rename(columns = {'Do you think that team members/co-workers would view you more negatively if they knew you suffered from a mental health issue?'\n",
    "                          :'neg_view_coworkers_MH'})\n",
    "df = df.rename(columns = {'How willing would you be to share with friends and family that you have a mental illness?'\n",
    "                          :'share_MH_framily'})\n",
    "df = df.rename(columns = {'Have you observed or experienced an unsupportive or badly handled response to a mental health issue in your current or previous workplace?'\n",
    "                          :'obs_bad_resp_MH'})\n",
    "df = df.rename(columns = {'Have you ever sought treatment for a mental health issue from a mental health professional?'\n",
    "                          :'sought_treatment'})\n",
    "df = df.rename(columns = {'Would you be willing to bring up a physical health issue with a potential employer in an interview?'\n",
    "                          :'PH_interview'})\n",
    "df = df.rename(columns = {'Would you bring up a mental health issue with a potential employer in an interview?'\n",
    "                          :'MH_interview'})\n",
    "df = df.rename(columns = {'Do you have a family history of mental illness?'\n",
    "                          :'MH_family'})\n",
    "df = df.rename(columns = {'Have you had a mental health disorder in the past?'\n",
    "                          :'MH_past'})\n",
    "df = df.rename(columns = {'Do you currently have a mental health disorder?'\n",
    "                          :'MH_currently'})\n",
    "df = df.rename(columns = {'Have you been diagnosed with a mental health condition by a medical professional?'\n",
    "                          :'diagnosed'})\n",
    "df = df.rename(columns = {'What is your age?'\n",
    "                          :'age'})\n",
    "df = df.rename(columns = {'What is your gender?'\n",
    "                          :'gender'})\n",
    "df = df.rename(columns = {'Do you work remotely?'\n",
    "                          :'remote'})\n",
    "\n",
    "# prev employee\n",
    "df = df.rename(columns = {'Was your anonymity protected if you chose to take advantage of mental health or substance abuse treatment resources with previous employers?'\n",
    "                          :'prev_anon'})\n",
    "\n",
    "\n",
    "# 4,6,7,8: How serious does the company take MH\n",
    "# provide_MH_healthcare, discussed_MH, employer_resources_options_for_MH, anonymity_protected\n",
    "'''df[\"how_good_MH\"] = df['provide_MH_healthcare'] + df['disc_MH'] + df['empl_res_MH'] + df['anon']\n",
    "'''\n",
    "# Very bad, bad, okay, good, very good\n",
    "\n",
    "'''\n",
    "how_good_MH_labels = [\"Very Bad\", \"Bad\", \"Okay\", \"Good\", \"Very Good\"]\n",
    "df[\"how_good_MH\"] = pd.cut(x=df[\"how_good_MH\"], bins=[0,5,7,9,11,12], labels=how_good_MH_labels)\n",
    "how_good_MH_mapper = {'Very Bad':1, 'Bad':2, 'Okay':3, 'Good':3, 'Very Good':4}\n",
    "df[\"how_good_MH\"] = df[\"how_good_MH\"].replace(how_good_MH_mapper)\n",
    "'''\n",
    "\n",
    "# bad, good\n",
    "'''\n",
    "how_good_MH_labels = [\"Bad\", \"Good\"]\n",
    "df[\"how_good_MH\"] = pd.cut(x=df[\"how_good_MH\"], bins=[0,7,12], labels=how_good_MH_labels)\n",
    "how_good_MH_mapper = {'Bad':1, 'Good':2}\n",
    "df[\"how_good_MH\"] = df[\"how_good_MH\"].replace(how_good_MH_mapper)\n",
    "'''\n",
    "\n",
    "'''\n",
    "df = df.drop(columns=['provide_MH_healthcare', 'discussed_MH', 'employer_resources_options_for_MH', 'anonymity_protected'])\n",
    "'''"
   ]
  },
  {
   "cell_type": "code",
   "execution_count": 11,
   "metadata": {},
   "outputs": [],
   "source": [
    "# make all features numerical\n",
    "mapper_list = [{'No':1, 'Maybe':2, 'Yes':3}, {'No':1, 'I don\\'t know':2, 'Yes':3}, {'No, it has not':1, 'No, I don\\'t think it would':2,'Maybe':3, 'Yes, I think it would':4, 'Yes, it has':5},\n",
    "               {'None of them':1,  'I don\\'t know':3, 'Some of them':2, 'Yes, all of them':4}, {'None did':1, 'Some did':2, 'Yes, they all did':3}, \n",
    "               {'No':1, 'Maybe/Not sure':2, 'Yes, I observed':3, 'Yes, I experienced':4},\n",
    "               {'N/A (not currently aware)':1, 'No, I only became aware later':2, 'I was aware of some':3, 'Yes, I was aware of all of them':4},\n",
    "               {'No, they do not':1, 'No, I don\\'t think they would':2, 'Maybe':3, 'Yes, I think they would':4, 'Yes, they do':5},\n",
    "               {'Very difficult':1, 'Somewhat difficult':2, 'Neither easy nor difficult':3, 'Somewhat easy':4, 'Very easy':5, 'I don\\'t know':3},\n",
    "               {'Not open at all':1, 'Somewhat not open':2, 'Neutral':3, 'Not applicable to me (I do not have a mental illness)': -1, 'Somewhat open':4, 'Very open':5},\n",
    "               {'Never':1, 'Sometimes':2, 'Always':3},\n",
    "               {'No':1, \"I'm not sure\":2, 'Yes': 3},\n",
    "               {'No, at none of my previous employers':1, 'I don\\'t know': 2, 'Some of my previous employers':3, 'Yes, at all of my previous employers':4},\n",
    "               {'None did':1, \"I don't know\":2, 'Some did':3,  'Yes, they all did':4},\n",
    "               {'No, none did':1, \"I don't know\":2, 'Some did':3, 'Yes, they all did':4},\n",
    "               {'None of them':1, \"I don't know\":2, 'Some of them':3, 'Yes, all of them':4},\n",
    "               {'None did':1, 'Some did':2, 'Yes, they all did':3},\n",
    "               {'No, none did':1, \"I don't know\":2, 'Some did':3, 'Yes, they all did':4},\n",
    "               {'No, none did':1, \"I don't know\":2, 'Some did':3, 'Yes, they all did':4},\n",
    "               {'No, at none of my previous employers':1, \"I don't know\":2, 'Some of my previous employers':3, 'Yes, at all of my previous employers':4},\n",
    "               {'No':1, \"I don't know\":2, 'Sometimes':3, 'Yes, always':4},\n",
    "               {'Never':1, 'Rarely':2, 'Not applicable to me':-1, 'Sometimes':3, 'Often':4},\n",
    "               {'Never':1, 'Rarely':2, 'Sometimes':3, 'Often':4},\n",
    "               {'No':1, 'I don\\'t know':2, 'Yes':3, 'Not eligible for coverage / N/A': -1},\n",
    "               {'No':1, \"I am not sure\":2, 'Yes': 3, 'nan': -1},\n",
    "               {'No':1, 'Maybe':2, 'Yes':3, 'n/a':-1},\n",
    "               {0:1, 1:2},\n",
    "               {'1-5':1, '6-25':6, '26-100':26, '100-500':100, '500-1000':500, 'More than 1000':1000}]\n",
    "\n",
    "# Haven't figured out why, but needs to be done twice   \n",
    "for column in df:\n",
    "    df[column] = df[column].replace(get_mapper(df[column].unique()))\n",
    "\n",
    "for column in df:\n",
    "    df[column] = df[column].replace(get_mapper(df[column].unique()))\n",
    "\n",
    "# Fill al nan with -1 as not applicable (just one feature)\n",
    "df = df.fillna('nan')\n",
    "df = pd.get_dummies(df, dummy_na=False, drop_first=True);\n",
    "\n",
    "for column in df:\n",
    "    df[column] = df[column].replace(get_mapper(df[column].unique()))\n",
    "\n",
    "    \n"
   ]
  },
  {
   "cell_type": "code",
   "execution_count": null,
   "metadata": {},
   "outputs": [],
   "source": [
    "# For Plotting the decision Tree\n",
    "\n",
    "# clf = tree.DecisionTreeClassifier(max_depth=3)\n",
    "# clf = clf.fit(train_X,train_y)\n",
    "\n",
    "# fig=plt.figure(figsize=(40, 40))\n",
    "# tree.plot_tree(clf, fontsize=8, feature_names=list(X), filled=True)\n",
    "# fig.savefig('decision_tree_plot.png', dpi=100)"
   ]
  },
  {
   "cell_type": "code",
   "execution_count": 12,
   "metadata": {},
   "outputs": [],
   "source": [
    "def feature_importance(model, depth, score):\n",
    "    feat_importances = pd.Series(model.feature_importances_, index=X.columns)\n",
    "    feat_importances.nlargest(10).plot(kind='barh', title='Depth: ' + str(depth) + ' Score: ' + str(score))"
   ]
  },
  {
   "cell_type": "code",
   "execution_count": 20,
   "metadata": {},
   "outputs": [],
   "source": [
    "def tune_parameters(model, parameters, scoring):\n",
    "    search = RandomizedSearchCV(model, parameters, n_iter=2000, cv=10, scoring=scoring, refit=True, n_jobs=-1, random_state=42)\n",
    "    search.fit(X, y)\n",
    "\n",
    "    print('best score: ', search.best_score_)\n",
    "    print('best parameters: ', search.best_params_)"
   ]
  },
  {
   "cell_type": "code",
   "execution_count": 14,
   "metadata": {},
   "outputs": [],
   "source": [
    "test_size = 0.25\n",
    "\n",
    "# X and Y\n",
    "y_interview = \"MH_interview\"\n",
    "y_diagnose = \"diagnosed\"\n",
    "y_treatment = \"sought_treatment\"\n",
    "y_physical = \"PH_interview\"\n",
    "y_company_size = \"company_size\"\n",
    "high_affectors = [\"MH_past\", \"MH_currently\", \"MH_interference_treated\", \"MH_interference_not_treated\"]\n",
    "\n",
    "\n",
    "X = df.drop([y_interview, y_diagnose, y_treatment, y_physical] + high_affectors, axis=1, inplace=False)\n",
    "y = df[y_treatment]\n",
    "\n",
    "train_X , val_X , train_y , val_y = train_test_split(X, y, test_size = test_size, random_state=42)"
   ]
  },
  {
   "cell_type": "code",
   "execution_count": 21,
   "metadata": {},
   "outputs": [
    {
     "name": "stdout",
     "output_type": "stream",
     "text": [
      "best score:  0.7312529110386586\n",
      "best parameters:  {'criterion': 'gini', 'max_depth': 4, 'max_features': 12, 'min_samples_leaf': 10, 'min_samples_split': 10}\n"
     ]
    }
   ],
   "source": [
    "featuresSize = len(X.columns)\n",
    "\n",
    "scoring_clf = 'accuracy'\n",
    "scoring_rgr = 'neg_mean_absolute_error'\n",
    "\n",
    "param_dist_class = {\n",
    "    \"max_depth\": randint(3,10),\n",
    "    \"max_features\": randint(1, featuresSize),\n",
    "    \"min_samples_split\": randint(2, 20),\n",
    "    \"min_samples_leaf\": randint(1, 20),\n",
    "    \"criterion\": [\"gini\", \"entropy\"]}\n",
    "param_dist_regressor = {\n",
    "    \"max_depth\": randint(3,15),\n",
    "    \"max_features\": randint(1, featuresSize),\n",
    "    \"min_samples_split\": randint(2, 20),\n",
    "    \"min_samples_leaf\": randint(1, 20),\n",
    "    \"criterion\": [\"mse\", \"friedman_mse\"]}\n",
    "\n",
    "# rgr = tree.DecisionTreeRegressor()\n",
    "# tune_parameters(rgr, param_dist_regressor, scoring_rgr)\n",
    "\n",
    "clf = tree.DecisionTreeClassifier(random_state=42)\n",
    "tune_parameters(clf, param_dist_class, scoring_clf)"
   ]
  },
  {
   "cell_type": "code",
   "execution_count": 18,
   "metadata": {},
   "outputs": [
    {
     "data": {
      "image/png": "[encoded data removed]",
      "text/plain": [
       "<Figure size 432x288 with 1 Axes>"
      ]
     },
     "metadata": {
      "needs_background": "light"
     },
     "output_type": "display_data"
    },
    {
     "name": "stdout",
     "output_type": "stream",
     "text": [
      "Score X Y\n"
     ]
    },
    {
     "data": {
      "text/plain": [
       "0.7206012378426172"
      ]
     },
     "execution_count": 18,
     "metadata": {},
     "output_type": "execute_result"
    },
    {
     "data": {
      "image/png": "[encoded data removed]",
      "text/plain": [
       "<Figure size 432x288 with 1 Axes>"
      ]
     },
     "metadata": {
      "needs_background": "light"
     },
     "output_type": "display_data"
    }
   ],
   "source": [
    "maxdepth = 10\n",
    "\n",
    "#Split into validation and training data\n",
    "t_acc =[0]* maxdepth\n",
    "v_acc =[0]* maxdepth\n",
    "\n",
    "bestdepth = 1\n",
    "best_model = None\n",
    "bestscore = 0\n",
    "\n",
    "min_samples_leaf = 3\n",
    "min_samples_split = 6\n",
    "criterion = 'entropy'\n",
    "max_depth = 4\n",
    "max_features = 17\n",
    "\n",
    "for depth in range(1,maxdepth +1):\n",
    "    # Specify Model\n",
    "    clf = tree.DecisionTreeClassifier(max_depth=depth)\n",
    "    # FitModel\n",
    "    clf.fit(train_X , train_y)\n",
    "    # calculate mean absolute error on training instances \n",
    "    train_predictions = clf.predict(train_X)\n",
    "    t_acc[depth - 1] = accuracy_score(train_predictions, train_y)\n",
    "    # Make validation predictions and calculate mean absoluteerror\n",
    "    val_predictions = clf.predict(val_X)\n",
    "    v_acc[depth - 1] = accuracy_score(val_predictions, val_y)\n",
    "    \n",
    "    if(v_acc[depth - 1] >= v_acc[bestdepth - 1]):\n",
    "        best_model = clf\n",
    "        bestdepth = depth\n",
    "        bestscore = v_acc[depth - 1]\n",
    "\n",
    "t_acc = np.asarray(t_acc)\n",
    "v_acc = np.asarray(v_acc)\n",
    "\n",
    "plt.plot(range(1,maxdepth +1),t_acc ,c=\"blue\")\n",
    "plt.plot(range(1,maxdepth +1),v_acc ,c=\"red\")\n",
    "plt.xlabel('Depth')\n",
    "plt.ylabel('Accuracy Score')\n",
    "plt.title('Prediction of ' + y.name)\n",
    "\n",
    "plt.show()\n",
    "\n",
    "feature_importance(best_model, bestdepth, bestscore)\n",
    "print(\"Score X Y\")\n",
    "best_model.score(X, y)"
   ]
  },
  {
   "cell_type": "code",
   "execution_count": 19,
   "metadata": {},
   "outputs": [
    {
     "name": "stdout",
     "output_type": "stream",
     "text": [
      "Score:\n",
      "0.7409372236958444\n",
      "Prediction Accuracy:\n",
      "0.6925795053003534\n"
     ]
    },
    {
     "data": {
      "image/png": "[encoded data removed]",
      "text/plain": [
       "<Figure size 432x288 with 1 Axes>"
      ]
     },
     "metadata": {
      "needs_background": "light"
     },
     "output_type": "display_data"
    }
   ],
   "source": [
    "min_samples_leaf = 2\n",
    "min_samples_split = 5\n",
    "criterion = 'gini'\n",
    "max_depth = 4\n",
    "max_features = 12\n",
    "\n",
    "clf = tree.DecisionTreeClassifier(max_depth = max_depth, min_samples_split=min_samples_split, min_samples_leaf=min_samples_leaf, max_features=max_features, criterion=criterion, random_state=42)\n",
    "# FitModel\n",
    "clf.fit(train_X , train_y)\n",
    "val_predictions = clf.predict(val_X)\n",
    "score = accuracy_score(val_predictions, val_y)\n",
    "feature_importance(clf, max_depth, score)\n",
    "print(\"Score:\")\n",
    "print(clf.score(X, y))\n",
    "print(\"Prediction Accuracy:\")\n",
    "print(score)"
   ]
  },
  {
   "cell_type": "code",
   "execution_count": null,
   "metadata": {},
   "outputs": [],
   "source": [
    "from sklearn.metrics import classification_report, confusion_matrix\n",
    "\n",
    "print(confusion_matrix(val_y, val_predictions))\n",
    "print(classification_report(val_y, val_predictions))"
   ]
  },
  {
   "cell_type": "code",
   "execution_count": null,
   "metadata": {},
   "outputs": [],
   "source": [
    "\n",
    "featuresSize = len(X.columns)\n",
    "\n",
    "maxdepth = 10\n",
    "train_size=0.6\n",
    "bestdepth = 1\n",
    "bestscore = 0\n",
    "# parameters\n",
    "min_samples_leaf = 2\n",
    "min_samples_split = 5\n",
    "criterion = 'mse'\n",
    "max_depth = 9\n",
    "max_features = 21\n",
    "# parameters classifier\n",
    "\n",
    "#Split into validation and training data\n",
    "t_mae =[0]* maxdepth\n",
    "v_mae =[0]* maxdepth\n",
    "\n",
    "for depth in range(1,maxdepth +1):\n",
    "    # Specify Model\n",
    "    rgr = tree.DecisionTreeRegressor(max_depth=depth, min_samples_split=min_samples_split, min_samples_leaf=min_samples_leaf, max_features=max_features, criterion=criterion, random_state=42)\n",
    "    # FitModel\n",
    "    rgr.fit(train_X , train_y)\n",
    "    # calculate mean absolute error on training instances \n",
    "    train_predictions = rgr.predict(train_X)\n",
    "    t_mae[depth - 1] = mean_absolute_error(train_predictions, train_y)\n",
    "    # Make validation predictions and calculate mean absoluteerror\n",
    "    val_predictions = rgr.predict(val_X)\n",
    "    v_mae[depth - 1] = mean_absolute_error(val_predictions, val_y)\n",
    "    \n",
    "    if(v_mae[depth - 1] <= v_mae[bestdepth - 1]):\n",
    "        best_model = rgr\n",
    "        bestdepth = depth\n",
    "        bestscore = v_mae[depth - 1]\n",
    "\n",
    "t_mae = np.asarray(t_mae)\n",
    "v_mae = np.asarray(v_mae)\n",
    "\n",
    "plt.plot(range(1,maxdepth +1),t_mae ,c=\"blue\")\n",
    "plt.plot(range(1,maxdepth +1),v_mae ,c=\"red\")\n",
    "plt.xlabel('Depth')\n",
    "plt.ylabel('MAE')\n",
    "plt.title('Prediction of ' + y.name)\n",
    "\n",
    "plt.show()\n",
    "\n",
    "feature_importance(best_model, bestdepth, bestscore)"
   ]
  },
  {
   "cell_type": "code",
   "execution_count": null,
   "metadata": {},
   "outputs": [],
   "source": [
    "# Output rules to txt\n",
    "# tree_rules = export_text(clf, feature_names=list(X))\n",
    "\n",
    "# text_file = open(\"Output.txt\", \"w\")\n",
    "# text_file.write(tree_rules)\n",
    "# text_file.close()"
   ]
  },
  {
   "cell_type": "code",
   "execution_count": null,
   "metadata": {},
   "outputs": [],
   "source": [
    "# Age plot (More of a template now)\n",
    "# plt.figure(figsize=(15,8))\n",
    "# plt.title(\"Age Distribution and Density\")\n",
    "# plt.xlabel(\"Age\")\n",
    "# plt.ylabel(\"Density\")\n",
    "# sns.distplot(df['What is your age?'])"
   ]
  },
  {
   "cell_type": "code",
   "execution_count": null,
   "metadata": {},
   "outputs": [],
   "source": [
    "df_dummy.info()"
   ]
  },
  {
   "cell_type": "code",
   "execution_count": null,
   "metadata": {},
   "outputs": [],
   "source": [
    "df['Have you ever sought treatment for a mental health issue from a mental health professional?'].unique()"
   ]
  },
  {
   "cell_type": "code",
   "execution_count": null,
   "metadata": {},
   "outputs": [],
   "source": [
    "df['empl_aware_MH_healthcare'].unique()"
   ]
  },
  {
   "cell_type": "code",
   "execution_count": 16,
   "metadata": {},
   "outputs": [
    {
     "data": {
      "text/plain": [
       "0.9283819628647215"
      ]
     },
     "execution_count": 16,
     "metadata": {},
     "output_type": "execute_result"
    },
    {
     "data": {
      "image/png": "[encoded data removed]",
      "text/plain": [
       "<Figure size 432x288 with 1 Axes>"
      ]
     },
     "metadata": {
      "needs_background": "light"
     },
     "output_type": "display_data"
    }
   ],
   "source": [
    "featuresSize = len(X.columns)\n",
    "scoring_clf = 'accuracy'\n",
    "\n",
    "param_dist_class = {\n",
    "    \"max_depth\": randint(3,10),\n",
    "    \"max_features\": randint(1, featuresSize),\n",
    "    \"min_samples_split\": randint(2, 10),\n",
    "    \"min_samples_leaf\": randint(1, 10),\n",
    "    \"criterion\": [\"gini\", \"entropy\"]}\n",
    "\n",
    "clf2 = RandomForestClassifier(n_estimators=200, random_state=42)  \n",
    "# tune_parameters(clf2, param_dist_class, scoring_clf)\n",
    "clf2.fit(train_X, train_y)  \n",
    "val_predictions = clf2.predict(val_X)\n",
    "score = accuracy_score(val_predictions, val_y)\n",
    "feature_importance(clf2, 200, score)\n",
    "clf2.score(X, y)"
   ]
  },
  {
   "cell_type": "code",
   "execution_count": 17,
   "metadata": {},
   "outputs": [
    {
     "data": {
      "text/plain": [
       "array([-1,  3,  1,  2], dtype=int64)"
      ]
     },
     "execution_count": 17,
     "metadata": {},
     "output_type": "execute_result"
    }
   ],
   "source": [
    "# Age in groups\n",
    "\n",
    "# 0.9292661361626879\n",
    "# 0.717\n",
    "\n",
    "# Age seperate with MinMaxScaler\n",
    "\n",
    "# 0.9310344827586207\n",
    "# 0.72438\n",
    "df['obs_reveal'].unique()"
   ]
  },
  {
   "cell_type": "code",
   "execution_count": null,
   "metadata": {},
   "outputs": [],
   "source": [
    "for column in df_dummy:\n",
    "    print(column)\n",
    "    print(df[column].unique())"
   ]
  },
  {
   "cell_type": "markdown",
   "metadata": {},
   "source": [
    "## Questions\n",
    "\n",
    "0. Are you self-employed?\n",
    "1. How many employees does your company or organization have? **[NaN]**\n",
    "2. Is your employer primarily a tech company/organization? **[NaN]**\n",
    "3. Is your primary role within your company related to tech/IT? **[NaN]**\n",
    "4. Does your employer provide mental health benefits as part of healthcare coverage?\n",
    "5. Do you know the options for mental health care available under your employer-provided coverage?\n",
    "6. Has your employer ever formally discussed mental health (for example, as part of a wellness campaign or other official communication)?\n",
    "7. Does your employer offer resources to learn more about mental health concerns and options for seeking help?\n",
    "8. Is your anonymity protected if you choose to take advantage of mental health or substance abuse treatment resources provided by your employer?\n",
    "9. If a mental health issue prompted you to request a medical leave from work, asking for that leave would be:\n",
    "10. Do you think that discussing a mental health disorder with your employer would have negative consequences?\n",
    "11. Do you think that discussing a physical health issue with your employer would have negative consequences?\n",
    "12. Would you feel comfortable discussing a mental health disorder with your coworkers?\n",
    "13. Would you feel comfortable discussing a mental health disorder with your direct supervisor(s)?\n",
    "14. Do you feel that your employer takes mental health as seriously as physical health?\n",
    "15. Have you heard of or observed negative consequences for co-workers who have been open about mental health issues in your workplace?\n",
    "36. Would you be willing to bring up a physical health issue with a potential employer in an interview?\n",
    "38. Would you bring up a mental health issue with a potential employer in an interview? **[NaN]**\n",
    "40. Do you feel that being identified as a person with a mental health issue would hurt your career? **[NaN]**\n",
    "41. Do you think that team members/co-workers would view you more negatively if they knew you suffered from a mental health issue? **[NaN]**\n",
    "42. How willing would you be to share with friends and family that you have a mental illness? **[NaN]**\n",
    "43. Have you observed or experienced an unsupportive or badly handled response to a mental health issue in your current or previous workplace? **[NaN]**\n",
    "44. Have your observations of how another individual who discussed a mental health disorder made you less likely to reveal a mental health issue yourself in your current workplace? **[NaN]**\n",
    "45. Do you have a family history of mental illness?\n",
    "46. Have you had a mental health disorder in the past? **[NaN]**\n",
    "47. Do you currently have a mental health disorder? **[NaN]**\n",
    "50. Have you been diagnosed with a mental health condition by a medical professional? **[NaN]**\n",
    "52. Have you ever sought treatment for a mental health issue from a mental health professional?\n",
    "53. [FOLLOW-UP] If you have a mental health issue, do you feel that it interferes with your work when being treated effectively? **[NaN]**\n",
    "54. [FOLLOW-UP] If you have a mental health issue, do you feel that it interferes with your work when NOT being treated effectively?\n",
    "55. What is your age?\n",
    "56. What is your gender?\n",
    "62. Do you work remotely?"
   ]
  },
  {
   "cell_type": "code",
   "execution_count": null,
   "metadata": {},
   "outputs": [],
   "source": []
  }
 ],
 "metadata": {
  "kernelspec": {
   "display_name": "Python 3",
   "language": "python",
   "name": "python3"
  },
  "language_info": {
   "codemirror_mode": {
    "name": "ipython",
    "version": 3
   },
   "file_extension": ".py",
   "mimetype": "text/x-python",
   "name": "python",
   "nbconvert_exporter": "python",
   "pygments_lexer": "ipython3",
   "version": "3.8.3"
  }
 },
 "nbformat": 4,
 "nbformat_minor": 4
}
