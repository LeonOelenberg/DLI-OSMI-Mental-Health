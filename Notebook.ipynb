{
 "cells": [
  {
   "cell_type": "code",
   "execution_count": 1,
   "metadata": {},
   "outputs": [],
   "source": [
    "import pandas as pd\n",
    "\n",
    "df = pd.read_csv(\"./mental-heath-in-tech-2016_20161114.csv\")\n",
    "\n",
    "pd.set_option('max_colwidth', 300)\n",
    "pd.set_option('max_columns', 70)"
   ]
  },
  {
   "cell_type": "raw",
   "metadata": {},
   "source": [
    "Access columns by:\n",
    " 1: Actual name (very long)\n",
    " 2: by index via iloc[:, i]\n",
    " 3: shorten the names via\n",
    "    cols = df.columns\n",
    "    df[df[cols[27]] == 'Gender'] (not actually the gender column probably)\n",
    "    \n",
    "    df.iloc[:, [0,2]] columns 1 and 3\n",
    "    \n",
    "    df[cols] = df[cols].fillna(0)\n",
    "    \n",
    "Decide which columns will be dropped!"
   ]
  },
  {
   "cell_type": "code",
   "execution_count": null,
   "metadata": {},
   "outputs": [],
   "source": [
    "# Columns still with null (start from 0): \n",
    "# 1 (company size), 2 (primarily tech?), 3 (role in company)\n",
    "# 10/11 (discussing mental health/physical negative consequences?)\n",
    "# 12 (comfortable discussing a mental health disorder with your coworkers)\n",
    "# 13 (comfortable discussing a mental health disorder with your direct supervisor(s)?)\n",
    "# 15 (observed negative consequences for co-workers who have been open about mental health issues in your workplace?\n",
    "# 16 (medical coverage which includes treatment of  mental health issues?\n",
    "# 17 (know online/local resources)\n",
    "# 18 (If you have been diagnosed or treated for a mental health disorder, do you ever reveal this to clients or business contacts?)\n",
    "# 19: If you have revealed a mental health issue to a client or business contact, do you believe this has impacted you negatively?"
   ]
  },
  {
   "cell_type": "code",
   "execution_count": 27,
   "metadata": {},
   "outputs": [
    {
     "data": {
      "text/plain": [
       "array(['male', 'female', 'other', nan], dtype=object)"
      ]
     },
     "execution_count": 27,
     "metadata": {},
     "output_type": "execute_result"
    }
   ],
   "source": [
    "# Clean Data\n",
    "\n",
    "# Handle NaN\n",
    "\n",
    "# 4: Does your employer provide mental health benefits as part of healthcare coverage?\n",
    "# 6: Has your employer ever formally discussed mental health (for example, as part of a wellness campaign or other official communication)?\n",
    "# 7: Does your employer offer resources to learn more about mental health concerns and options for seeking help?\n",
    "# 8: Is your anonymity protected if you choose to take advantage of mental health or substance abuse treatment resources provided by your employer?\n",
    "# 9: If a mental health issue prompted you to request a medical leave from work, asking for that leave would be:\n",
    "# 14: Do you feel that your employer takes mental health as seriously as physical health?\n",
    "df.iloc[:, [4, 6, 7, 8, 9, 14]] = df.iloc[:, [4, 6, 7, 8, 9, 14]].fillna(\"I don't know\")\n",
    "# 5: Do you know the options for mental health care available under your employer-provided coverage?\n",
    "df.iloc[:, 5].fillna(\"I am not sure\", inplace=True)\n",
    "\n",
    "\n",
    "\n",
    "\n",
    "male = ['Male', 'male', 'Male ', 'M', 'm', 'man', 'Cis male', 'Male.', 'Male. ', 'Male (cis)', 'Man', 'Sex is male',\n",
    "        'cis male', 'Malr', 'Dude', 'mail', 'M|', 'male ', 'Cis Male', 'cisdude', 'cis man', 'MALE',\n",
    "        \"I'm a man why didn't you make this a drop down question. You should of asked sex? And I would of answered yes please. Seriously how much text can this take? \"]\n",
    "female = ['Female', 'female', 'I identify as female.', 'female ', 'Female assigned at birth ', 'F', 'Woman', 'f',\n",
    "          'Cis female ', 'Female ', 'woman', 'female/woman', 'Cisgender Female', 'fem', 'Female (props for making this a freeform field, though)',\n",
    "          ' Female', 'Cis-woman']\n",
    "other = ['Bigender', 'non-binary', 'fm', 'Transitioned, M2F', 'Genderfluid (born female)', 'Other/Transfeminine',\n",
    "         'Female or Multi-Gender Femme', 'Androgynous', 'male 9:1 female, roughly', 'Other', 'nb masculine',\n",
    "         'none of your business', 'genderqueer', 'Human','Genderfluid', 'Enby','genderqueer woman', 'mtf', 'Queer',\n",
    "         'Agender', 'Fluid', 'Male/genderqueer', 'Nonbinary', 'human', 'Unicorn', 'Male (trans, FtM)',\n",
    "         'Genderqueer', 'Genderflux demi-girl', 'female-bodied; no feelings about gender', 'AFAB', 'Transgender woman']\n",
    "\n",
    "df['What is your gender?'] = df['What is your gender?'].replace(male, 'male')\n",
    "df['What is your gender?'] = df['What is your gender?'].replace(female, 'female')\n",
    "df['What is your gender?'] = df['What is your gender?'].replace(other, 'other')\n",
    "\n",
    "df['What is your gender?'].unique()"
   ]
  },
  {
   "cell_type": "code",
   "execution_count": 28,
   "metadata": {},
   "outputs": [
    {
     "data": {
      "text/plain": [
       "0       I'm not sure\n",
       "1       I'm not sure\n",
       "2       I'm not sure\n",
       "3       I'm not sure\n",
       "4       I'm not sure\n",
       "            ...     \n",
       "1428    I'm not sure\n",
       "1429              No\n",
       "1430    I'm not sure\n",
       "1431    I'm not sure\n",
       "1432    I'm not sure\n",
       "Name: If you have revealed a mental health issue to a client or business contact, do you believe this has impacted you negatively?, Length: 1433, dtype: object"
      ]
     },
     "execution_count": 28,
     "metadata": {},
     "output_type": "execute_result"
    }
   ],
   "source": [
    "df.iloc[:,19]"
   ]
  },
  {
   "cell_type": "code",
   "execution_count": null,
   "metadata": {},
   "outputs": [],
   "source": []
  },
  {
   "cell_type": "code",
   "execution_count": null,
   "metadata": {},
   "outputs": [],
   "source": []
  }
 ],
 "metadata": {
  "kernelspec": {
   "display_name": "Python 3",
   "language": "python",
   "name": "python3"
  },
  "language_info": {
   "codemirror_mode": {
    "name": "ipython",
    "version": 3
   },
   "file_extension": ".py",
   "mimetype": "text/x-python",
   "name": "python",
   "nbconvert_exporter": "python",
   "pygments_lexer": "ipython3",
   "version": "3.8.3"
  }
 },
 "nbformat": 4,
 "nbformat_minor": 4
}
