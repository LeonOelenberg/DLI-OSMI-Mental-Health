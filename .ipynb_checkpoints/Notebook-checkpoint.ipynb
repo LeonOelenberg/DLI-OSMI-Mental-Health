{
 "cells": [
  {
   "cell_type": "code",
   "execution_count": 42,
   "metadata": {},
   "outputs": [
    {
     "data": {
      "text/plain": [
       "array(['Male', 'male', 'Male ', 'Female', 'M', 'female', 'm',\n",
       "       'I identify as female.', 'female ', 'Bigender', 'non-binary',\n",
       "       'Female assigned at birth ', 'F', 'Woman', 'man', 'fm', 'f',\n",
       "       'Cis female ', 'Transitioned, M2F', 'Genderfluid (born female)',\n",
       "       'Other/Transfeminine', 'Female or Multi-Gender Femme', 'Female ',\n",
       "       'woman', 'female/woman', 'Cis male', 'Male.', 'Androgynous',\n",
       "       'male 9:1 female, roughly', nan, 'Male (cis)', 'Other',\n",
       "       'nb masculine', 'Cisgender Female', 'Man', 'Sex is male',\n",
       "       'none of your business', 'genderqueer', 'cis male', 'Human',\n",
       "       'Genderfluid', 'Enby', 'Malr', 'genderqueer woman', 'mtf', 'Queer',\n",
       "       'Agender', 'Dude', 'Fluid',\n",
       "       \"I'm a man why didn't you make this a drop down question. You should of asked sex? And I would of answered yes please. Seriously how much text can this take? \",\n",
       "       'mail', 'M|', 'Male/genderqueer', 'fem', 'Nonbinary', 'male ',\n",
       "       'human', 'Female (props for making this a freeform field, though)',\n",
       "       ' Female', 'Unicorn', 'Cis Male', 'Male (trans, FtM)', 'Cis-woman',\n",
       "       'Genderqueer', 'cisdude', 'Genderflux demi-girl',\n",
       "       'female-bodied; no feelings about gender', 'cis man', 'AFAB',\n",
       "       'Transgender woman', 'MALE'], dtype=object)"
      ]
     },
     "execution_count": 42,
     "metadata": {},
     "output_type": "execute_result"
    }
   ],
   "source": [
    "import pandas as pd\n",
    "\n",
    "df = pd.read_csv(\"./mental-heath-in-tech-2016_20161114.csv\")\n",
    "\n",
    "df['What is your gender?'].unique()"
   ]
  },
  {
   "cell_type": "code",
   "execution_count": 43,
   "metadata": {},
   "outputs": [
    {
     "data": {
      "text/plain": [
       "array(['male', 'female', 'other', nan], dtype=object)"
      ]
     },
     "execution_count": 43,
     "metadata": {},
     "output_type": "execute_result"
    }
   ],
   "source": [
    "#Clean Data // Handle NaN for gender before\n",
    "male = ['Male', 'male', 'Male ', 'M', 'm', 'man', 'Cis male', 'Male.', 'Male. ', 'Male (cis)', 'Man', 'Sex is male',\n",
    "        'cis male', 'Malr', 'Dude', 'mail', 'M|', 'male ', 'Cis Male', 'cisdude', 'cis man', 'MALE',\n",
    "        \"I'm a man why didn't you make this a drop down question. You should of asked sex? And I would of answered yes please. Seriously how much text can this take? \"]\n",
    "female = ['Female', 'female', 'I identify as female.', 'female ', 'Female assigned at birth ', 'F', 'Woman', 'f',\n",
    "          'Cis female ', 'Female ', 'woman', 'female/woman', 'Cisgender Female', 'fem', 'Female (props for making this a freeform field, though)',\n",
    "          ' Female', 'Cis-woman']\n",
    "other = ['Bigender', 'non-binary', 'fm', 'Transitioned, M2F', 'Genderfluid (born female)', 'Other/Transfeminine',\n",
    "         'Female or Multi-Gender Femme', 'Androgynous', 'male 9:1 female, roughly', 'Other', 'nb masculine',\n",
    "         'none of your business', 'genderqueer', 'Human','Genderfluid', 'Enby','genderqueer woman', 'mtf', 'Queer',\n",
    "         'Agender', 'Fluid', 'Male/genderqueer', 'Nonbinary', 'human', 'Unicorn', 'Male (trans, FtM)',\n",
    "         'Genderqueer', 'Genderflux demi-girl', 'female-bodied; no feelings about gender', 'AFAB', 'Transgender woman']\n",
    "\n",
    "df['What is your gender?'] = df['What is your gender?'].replace(male, 'male')\n",
    "df['What is your gender?'] = df['What is your gender?'].replace(female, 'female')\n",
    "df['What is your gender?'] = df['What is your gender?'].replace(other, 'other')\n",
    "\n",
    "df['What is your gender?'].unique()"
   ]
  },
  {
   "cell_type": "code",
   "execution_count": null,
   "metadata": {},
   "outputs": [],
   "source": []
  },
  {
   "cell_type": "code",
   "execution_count": null,
   "metadata": {},
   "outputs": [],
   "source": []
  }
 ],
 "metadata": {
  "kernelspec": {
   "display_name": "Python 3",
   "language": "python",
   "name": "python3"
  },
  "language_info": {
   "codemirror_mode": {
    "name": "ipython",
    "version": 3
   },
   "file_extension": ".py",
   "mimetype": "text/x-python",
   "name": "python",
   "nbconvert_exporter": "python",
   "pygments_lexer": "ipython3",
   "version": "3.8.3"
  }
 },
 "nbformat": 4,
 "nbformat_minor": 4
}
